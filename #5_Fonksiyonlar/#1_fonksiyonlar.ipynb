{
 "cells": [
  {
   "cell_type": "markdown",
   "metadata": {},
   "source": [
    "## Yaklaşım ?\n",
    "\n",
    "Örneğin bir sigorta şirketinde müşterinin değerlendirilmesine göre bir fiyat hesaplama yapman gerekiyor.\n",
    "\n",
    "Birden fazla kriter için bir katsayı oluşuyor ve bunlara göre fiyat değerlendirmesi yapılacak. Örneğin aşağıdaki gibi bir çok duruma bakmak gerekiyor. Buradaki her bir alanı ayrı bir fonksiyon olarak düşünüp kendine özel hesaplamaları olduğu için ayrı bir fonksiyon olarak kodlanmalı ve **gerektiği durumlarda çağrılıp** kullanılmalıdır\n",
    "\n",
    "Sağlık raporu\n",
    "\n",
    "Meslek risk grubu\n",
    "\n",
    "Trafik kazası\n",
    "\n",
    "Banka Kredi Notu"
   ]
  },
  {
   "cell_type": "markdown",
   "metadata": {},
   "source": [
    "![title](image.png)"
   ]
  },
  {
   "cell_type": "markdown",
   "metadata": {},
   "source": []
  },
  {
   "cell_type": "markdown",
   "metadata": {},
   "source": [
    "## Sonsuz Sayıda Parametre Nasıl Eklerim ?\n",
    "\n",
    "Yukarıdaki örneklerde sınırlı sayıda parametrelerden oluşan fonksiyonlar tanımladık. Ancak ihtiyacımız doğrultusunda sonsuz sayıda parametre alan fonksiyonlar yazmamız gerekecektir."
   ]
  },
  {
   "cell_type": "markdown",
   "metadata": {},
   "source": [
    "![title](image2.png)"
   ]
  },
  {
   "cell_type": "markdown",
   "metadata": {},
   "source": []
  }
 ],
 "metadata": {
  "kernelspec": {
   "display_name": "Python 3.9.12 64-bit",
   "language": "python",
   "name": "python3"
  },
  "language_info": {
   "codemirror_mode": {
    "name": "ipython",
    "version": 3
   },
   "file_extension": ".py",
   "mimetype": "text/x-python",
   "name": "python",
   "nbconvert_exporter": "python",
   "pygments_lexer": "ipython3",
   "version": "3.9.12"
  },
  "orig_nbformat": 4,
  "vscode": {
   "interpreter": {
    "hash": "aee8b7b246df8f9039afb4144a1f6fd8d2ca17a180786b69acc140d282b71a49"
   }
  }
 },
 "nbformat": 4,
 "nbformat_minor": 2
}
