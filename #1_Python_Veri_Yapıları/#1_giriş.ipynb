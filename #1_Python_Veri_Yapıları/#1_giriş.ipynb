{
 "cells": [
  {
   "cell_type": "markdown",
   "metadata": {},
   "source": [
    "# Giriş"
   ]
  },
  {
   "cell_type": "markdown",
   "metadata": {},
   "source": [
    "- Python yorumlanan programlama diline sahiptir. (İnterpreted Language)\n",
    "- Sıklıkla girintiler ile block tanımlanrı yapılır. (İndentation)\n",
    "- Gelişmiş matematiksel işlemleri yapabilecek yetenekler ile dolu.\n",
    "- Kolay öğrenilebilen daha çok iç güdüsel bir dildir.\n"
   ]
  },
  {
   "cell_type": "markdown",
   "metadata": {},
   "source": [
    "![title](https://miro.medium.com/max/1400/1*ONa4Vg8aaoV3BapbICET5w.png)"
   ]
  },
  {
   "cell_type": "markdown",
   "metadata": {},
   "source": [
    "## Kaynak\n",
    "\n",
    "https://tr.wikipedia.org/wiki/Yorumlanan_programlama_dili#:~:text=Yorumlanan%20programlama%20dili%20bilgisayar%20programlamada,programming%20language%22%20olarak%20da%20ge%C3%A7mektedir.\n",
    "\n",
    "https://koddla.com/pythonda-girintiler-indentation/"
   ]
  },
  {
   "cell_type": "markdown",
   "metadata": {},
   "source": []
  }
 ],
 "metadata": {
  "kernelspec": {
   "display_name": "Python 3.9.12 64-bit",
   "language": "python",
   "name": "python3"
  },
  "language_info": {
   "name": "python",
   "version": "3.9.12"
  },
  "orig_nbformat": 4,
  "vscode": {
   "interpreter": {
    "hash": "aee8b7b246df8f9039afb4144a1f6fd8d2ca17a180786b69acc140d282b71a49"
   }
  }
 },
 "nbformat": 4,
 "nbformat_minor": 2
}
