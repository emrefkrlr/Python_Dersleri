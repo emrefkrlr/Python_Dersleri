{
 "cells": [
  {
   "cell_type": "markdown",
   "metadata": {},
   "source": [
    "# Değişken Tanımı"
   ]
  },
  {
   "cell_type": "markdown",
   "metadata": {},
   "source": [
    "Python programlama dili değişken tanımlama konusunda oldukça esnektir. Ancak genel kabullere göre değişkenler her zaman bir harfle başlamalı ve küçük harf kullanılmalıdır. (İstisnalar hariç)"
   ]
  },
  {
   "cell_type": "code",
   "execution_count": null,
   "metadata": {},
   "outputs": [],
   "source": [
    "# Doğru değişken tanımları\n",
    "\n",
    "degisken = 'değişken içeriği'\n",
    "degisken_tanimi = 'değişken içeriği'\n",
    "DEGISKEN = 'değişken içeriği'\n",
    "degiskenTanimi = 'değişken içeriği'\n",
    "degisken_tanimi_2 = 'değişken içeriği'\n",
    "\n",
    "# Yanlış değişken tanımları\n",
    "\n",
    "3metre = 'içerik'\n",
    "_değişken = 'içerik'\n",
    "değişken = 'içerik'\n",
    "?degisken = 'içerik'"
   ]
  },
  {
   "cell_type": "markdown",
   "metadata": {},
   "source": [
    "# Veri Yapıları"
   ]
  },
  {
   "cell_type": "markdown",
   "metadata": {},
   "source": [
    "## String (Karakter Dizileri)"
   ]
  },
  {
   "cell_type": "markdown",
   "metadata": {},
   "source": [
    "Metin olarak düşünebilirsiniz. Matematiksel ve mantıksal işlemler yapılamaz. Değikene tırnak işaretleri arasına yazılarak tanımlanır.\n",
    "\n",
    "String ifadeler içerisindeki her elman dizinin bir elamanını oluşturur. Bunlara aynı zamanda karakter dizileride denir. (Listeleri anlatırken daha net anlayacaksınız.)"
   ]
  },
  {
   "cell_type": "code",
   "execution_count": null,
   "metadata": {},
   "outputs": [],
   "source": [
    "degisken = 'bu bir string ifadedir'\n",
    "degisken = 'buda bir Strin?g if4d3dir'\n",
    "\n",
    "# Tırnak kullanımı\n",
    "\n",
    "a = 'İstanbul' un denizinde feribotla geziyorum\n",
    "a = \"İstanbul' un denizinde feribotla geziyorum\"\n",
    "a = \"\"\"\n",
    "Alt alta yazabileceğim çok fazla metni yazabilirim. Üç tırnak açtıktan sonra,\n",
    "tek tırkan (') yada çift tırnakları (\") rahatlıkla kullanabilirim\n",
    "\"\"\""
   ]
  },
  {
   "cell_type": "markdown",
   "metadata": {},
   "source": [
    "## List"
   ]
  },
  {
   "cell_type": "markdown",
   "metadata": {},
   "source": [
    "İçerisinde birden fazla değeri sırasıyla saklayabildiğimiz değişken tipleridir. Listeler içinde string, integer ve float tipinde veriler bulunabilir."
   ]
  },
  {
   "cell_type": "code",
   "execution_count": null,
   "metadata": {},
   "outputs": [],
   "source": [
    "# iki farklı şekilde tanımlanabilir.\n",
    "liste = []\n",
    "liste = list()\n",
    "\n",
    "# liste içerisine elemanları aşağıdaki gibi tanımlanabilir.\n",
    "\n",
    "liste = ['emre', 'fikirlier', 23, 23.1, 'istanbul']\n",
    "\n",
    "# liste içerisinde liste yada listelerde bulunabilir.\n",
    "\n",
    "liste = [\n",
    "\t[1,2,3,4,5],\n",
    "\t['emre', 'fikirlier', 2, 3, 4],\n",
    "\t[]\n",
    "]\n",
    "\n",
    "# listeye erişmek \n",
    "\n",
    "liste[1][1]"
   ]
  },
  {
   "cell_type": "markdown",
   "metadata": {},
   "source": [
    "# Tupple\n",
    "\n",
    "Listeler ile tamamen aynıdır. Tek farkı tuplle (demet) değiştirilemez."
   ]
  },
  {
   "cell_type": "code",
   "execution_count": null,
   "metadata": {},
   "outputs": [],
   "source": [
    "# tupple tanımlama\n",
    "demet = ()\n",
    "demet = tuple()\n",
    "\n",
    "# tupple değer tanımlama\n",
    "demet = ('emre', '23', 23, 23.1)\n",
    "\n",
    "# tupple ye erişmek\n",
    "demet[1]"
   ]
  },
  {
   "cell_type": "markdown",
   "metadata": {},
   "source": [
    "# Dictionary\n",
    "\n",
    "List ve tupple veri tiplerinde saklanan veriler sırasıyla saklandığı için bunlara erişimde sıra belirterek olmak zorundaydı. Dictionary veri tipleri ise key ve value olarak saklanır. Dolayısıyla erişmek istediğiniz verinin key’ ini vererek erişmek mümkün."
   ]
  },
  {
   "cell_type": "code",
   "execution_count": 3,
   "metadata": {},
   "outputs": [
    {
     "name": "stdout",
     "output_type": "stream",
     "text": [
      "fikirlier\n"
     ]
    }
   ],
   "source": [
    "# dictionary tanımlama\n",
    "\n",
    "sozluk = {}\n",
    "sozluk = dict()\n",
    "\n",
    "# dictionary içine veri tanımlama\n",
    "sozluk = {\n",
    "    'isim': 'emre',\n",
    "    'soyisim': 'fikirlier',\n",
    "\t'yas': 29,\n",
    "\t'status': True,\n",
    "}\n",
    "\n",
    "# dictionarye erişmek\n",
    "sozluk['soyisim']\n",
    "print(sozluk['soyisim'])"
   ]
  },
  {
   "cell_type": "markdown",
   "metadata": {},
   "source": [
    "## Önemli Fonksiyonlar"
   ]
  },
  {
   "cell_type": "code",
   "execution_count": null,
   "metadata": {},
   "outputs": [],
   "source": [
    "# Ekrana yazdırmak\n",
    "print()\n",
    "\n",
    "print(a)\n",
    "print('emre fikirlier')\n",
    "print('emre', 'fikirlier')\n",
    "print(a+b)\n",
    "print(2+2)\n",
    "print(2*2)\n",
    "print(2/2)\n",
    "\n",
    "# Eleman sayısını verme\n",
    "len()\n",
    "\n",
    "len(a)\n",
    "len('emre fikirlier')\n",
    "len(liste)\n",
    "print(len(a))\n",
    "\n",
    "# Değişkenin tipini öğrenmek\n",
    "type()\n",
    "\n",
    "type(a)\n",
    "type(list)\n",
    "type(12)\n",
    "type('emre')\n",
    "print(type('emre'))\n"
   ]
  },
  {
   "cell_type": "markdown",
   "metadata": {},
   "source": [
    "# Ödev"
   ]
  },
  {
   "cell_type": "markdown",
   "metadata": {},
   "source": [
    "1. Soru"
   ]
  },
  {
   "cell_type": "code",
   "execution_count": 5,
   "metadata": {},
   "outputs": [
    {
     "name": "stdout",
     "output_type": "stream",
     "text": [
      "98\n"
     ]
    }
   ],
   "source": [
    "# Aşağıdaki son elemanını liste saysısı bağımsız olabileceğini düşünerek bulmaya çalışalım.\n",
    "List = [12,22,31,12,'emre', 42, 'python', 98]"
   ]
  },
  {
   "cell_type": "markdown",
   "metadata": {},
   "source": [
    "2. Soru"
   ]
  },
  {
   "cell_type": "code",
   "execution_count": 11,
   "metadata": {},
   "outputs": [],
   "source": [
    "# Listelerde en çok kullanılan aşağıdaki metodları inceleyip kendiniz denemeye çalışın\n",
    "# append()\n",
    "# pop()\n",
    "# sort()"
   ]
  },
  {
   "cell_type": "markdown",
   "metadata": {},
   "source": [
    "3. Soru"
   ]
  },
  {
   "cell_type": "code",
   "execution_count": 12,
   "metadata": {},
   "outputs": [],
   "source": [
    "# Aşağıdaki listede yer alan 'python' ifadesine nasıl erişebiliriz.\n",
    "List = [\n",
    "\t[0, 22, 11, 'ali'],\n",
    "\t['emre', 43, 'mehhmet', 11],\n",
    "\t[13, 'python', 32, 54]\n",
    "]"
   ]
  }
 ],
 "metadata": {
  "kernelspec": {
   "display_name": "Python 3.9.12 64-bit",
   "language": "python",
   "name": "python3"
  },
  "language_info": {
   "codemirror_mode": {
    "name": "ipython",
    "version": 3
   },
   "file_extension": ".py",
   "mimetype": "text/x-python",
   "name": "python",
   "nbconvert_exporter": "python",
   "pygments_lexer": "ipython3",
   "version": "3.9.12"
  },
  "orig_nbformat": 4,
  "vscode": {
   "interpreter": {
    "hash": "aee8b7b246df8f9039afb4144a1f6fd8d2ca17a180786b69acc140d282b71a49"
   }
  }
 },
 "nbformat": 4,
 "nbformat_minor": 2
}
