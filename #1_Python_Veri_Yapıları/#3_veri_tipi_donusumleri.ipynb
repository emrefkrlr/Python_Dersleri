{
 "cells": [
  {
   "cell_type": "markdown",
   "metadata": {},
   "source": [
    "# Veri Tipi Dönüşümleri"
   ]
  },
  {
   "cell_type": "code",
   "execution_count": 3,
   "metadata": {},
   "outputs": [
    {
     "name": "stdout",
     "output_type": "stream",
     "text": [
      "<class 'int'>\n",
      "<class 'float'>\n"
     ]
    }
   ],
   "source": [
    "# integer sayıyı ondalık sayıya çevirme\n",
    "\n",
    "a = 23\n",
    "print(type(a))\n",
    "print(a)\n",
    "a = float(a)\n",
    "print(type(a))\n",
    "print(a)"
   ]
  },
  {
   "cell_type": "code",
   "execution_count": 6,
   "metadata": {},
   "outputs": [
    {
     "name": "stdout",
     "output_type": "stream",
     "text": [
      "<class 'float'>\n",
      "4.7\n",
      "<class 'int'>\n",
      "4\n"
     ]
    }
   ],
   "source": [
    "# ondalık sayıyı integera çevirmek\n",
    "\n",
    "a = 4.7\n",
    "print(type(a))\n",
    "print(a)\n",
    "a = int(a)\n",
    "print(type(a))\n",
    "print(a)"
   ]
  },
  {
   "cell_type": "code",
   "execution_count": 7,
   "metadata": {},
   "outputs": [
    {
     "name": "stdout",
     "output_type": "stream",
     "text": [
      "<class 'int'>\n",
      "123\n",
      "<class 'str'>\n",
      "123\n"
     ]
    }
   ],
   "source": [
    "# stringe çevirmek\n",
    "\n",
    "a = 123\n",
    "print(type(a))\n",
    "print(a)\n",
    "a = str(a)\n",
    "print(type(a))\n",
    "print(a)"
   ]
  },
  {
   "cell_type": "code",
   "execution_count": 8,
   "metadata": {},
   "outputs": [
    {
     "name": "stdout",
     "output_type": "stream",
     "text": [
      "<class 'float'>\n",
      "12.1\n",
      "<class 'str'>\n",
      "12.1\n"
     ]
    }
   ],
   "source": [
    "# stringe çevirmek\n",
    "\n",
    "a = 12.1\n",
    "print(type(a))\n",
    "print(a)\n",
    "a = str(a)\n",
    "print(type(a))\n",
    "print(a)"
   ]
  },
  {
   "cell_type": "code",
   "execution_count": 9,
   "metadata": {},
   "outputs": [
    {
     "name": "stdout",
     "output_type": "stream",
     "text": [
      "<class 'str'>\n",
      "123\n",
      "<class 'int'>\n",
      "123\n"
     ]
    }
   ],
   "source": [
    "# string ifadeyi integer yada floata çevirmek\n",
    "a = '123'\n",
    "print(type(a))\n",
    "print(a)\n",
    "a = int(a)\n",
    "print(type(a))\n",
    "print(a)"
   ]
  },
  {
   "cell_type": "code",
   "execution_count": 14,
   "metadata": {},
   "outputs": [
    {
     "name": "stdout",
     "output_type": "stream",
     "text": [
      "<class 'str'>\n",
      "123.2\n",
      "<class 'float'>\n",
      "123.2\n"
     ]
    }
   ],
   "source": [
    "# string ifadeyi floata çevirmek\n",
    "\n",
    "a = '123.2'\n",
    "print(type(a))\n",
    "print(a)\n",
    "a = float(a)\n",
    "print(type(a))\n",
    "print(a)"
   ]
  },
  {
   "cell_type": "code",
   "execution_count": 11,
   "metadata": {},
   "outputs": [
    {
     "name": "stdout",
     "output_type": "stream",
     "text": [
      "<class 'str'>\n",
      "123\n",
      "<class 'float'>\n",
      "123.0\n"
     ]
    }
   ],
   "source": [
    "\n",
    "a = '123'\n",
    "print(type(a))\n",
    "print(a)\n",
    "a = float(a)\n",
    "print(type(a))\n",
    "print(a)\n"
   ]
  },
  {
   "cell_type": "code",
   "execution_count": 12,
   "metadata": {},
   "outputs": [
    {
     "name": "stdout",
     "output_type": "stream",
     "text": [
      "<class 'str'>\n",
      "123ab\n"
     ]
    },
    {
     "ename": "ValueError",
     "evalue": "invalid literal for int() with base 10: '123ab'",
     "output_type": "error",
     "traceback": [
      "\u001b[0;31m---------------------------------------------------------------------------\u001b[0m",
      "\u001b[0;31mValueError\u001b[0m                                Traceback (most recent call last)",
      "Cell \u001b[0;32mIn [12], line 4\u001b[0m\n\u001b[1;32m      2\u001b[0m \u001b[39mprint\u001b[39m(\u001b[39mtype\u001b[39m(a))\n\u001b[1;32m      3\u001b[0m \u001b[39mprint\u001b[39m(a)\n\u001b[0;32m----> 4\u001b[0m a \u001b[39m=\u001b[39m \u001b[39mint\u001b[39;49m(a)\n\u001b[1;32m      5\u001b[0m \u001b[39mprint\u001b[39m(\u001b[39mtype\u001b[39m(a))\n\u001b[1;32m      6\u001b[0m \u001b[39mprint\u001b[39m(a)\n",
      "\u001b[0;31mValueError\u001b[0m: invalid literal for int() with base 10: '123ab'"
     ]
    }
   ],
   "source": [
    "a = \"123ab\"\n",
    "print(type(a))\n",
    "print(a)\n",
    "a = int(a)\n",
    "print(type(a))\n",
    "print(a)"
   ]
  },
  {
   "cell_type": "markdown",
   "metadata": {},
   "source": [
    "\n",
    "\n",
    "# önemli not \n",
    "- string ifadelerin sayısal bir değere çevirmek istiyorsak içerisinde harf olmamalı\n",
    "- float veri tipi için nokta haricinde bir karakter olmamalı"
   ]
  },
  {
   "cell_type": "markdown",
   "metadata": {},
   "source": []
  }
 ],
 "metadata": {
  "kernelspec": {
   "display_name": "Python 3.9.12 64-bit",
   "language": "python",
   "name": "python3"
  },
  "language_info": {
   "codemirror_mode": {
    "name": "ipython",
    "version": 3
   },
   "file_extension": ".py",
   "mimetype": "text/x-python",
   "name": "python",
   "nbconvert_exporter": "python",
   "pygments_lexer": "ipython3",
   "version": "3.9.12"
  },
  "orig_nbformat": 4,
  "vscode": {
   "interpreter": {
    "hash": "aee8b7b246df8f9039afb4144a1f6fd8d2ca17a180786b69acc140d282b71a49"
   }
  }
 },
 "nbformat": 4,
 "nbformat_minor": 2
}
