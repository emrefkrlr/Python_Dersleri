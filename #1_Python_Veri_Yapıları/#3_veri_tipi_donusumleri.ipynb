{
 "cells": [
  {
   "cell_type": "markdown",
   "metadata": {},
   "source": [
    "# Veri Tipi Dönüşümleri"
   ]
  },
  {
   "cell_type": "code",
   "execution_count": 1,
   "metadata": {},
   "outputs": [
    {
     "data": {
      "text/plain": [
       "123.0"
      ]
     },
     "execution_count": 1,
     "metadata": {},
     "output_type": "execute_result"
    }
   ],
   "source": [
    "# integer sayıyı ondalık sayıya çevirme\n",
    "a = 23\n",
    "float(a)\n",
    "\n",
    "# ondalık sayıyı integera çevirmek\n",
    "a = 4.1\n",
    "int(a)\n",
    "\n",
    "# stringe çevirmek\n",
    "a = 123\n",
    "str(a)\n",
    "\n",
    "b = 12.1\n",
    "str(b)\n",
    "\n",
    "# string ifadeyi integer yada floata çevirmek\n",
    "a = '123'\n",
    "int(a)\n",
    "\n",
    "b = '123.2'\n",
    "float(b)\n",
    "\n",
    "c = '123'\n",
    "float(c)\n"
   ]
  },
  {
   "cell_type": "markdown",
   "metadata": {},
   "source": [
    "\n",
    "\n",
    "# önemli not \n",
    "- string ifadelerin içerisinde harf olmamalı\n",
    "- float veri tipi için nokta haricinde bir karakter olmamalı"
   ]
  },
  {
   "cell_type": "markdown",
   "metadata": {},
   "source": []
  }
 ],
 "metadata": {
  "kernelspec": {
   "display_name": "Python 3.9.12 64-bit",
   "language": "python",
   "name": "python3"
  },
  "language_info": {
   "codemirror_mode": {
    "name": "ipython",
    "version": 3
   },
   "file_extension": ".py",
   "mimetype": "text/x-python",
   "name": "python",
   "nbconvert_exporter": "python",
   "pygments_lexer": "ipython3",
   "version": "3.9.12"
  },
  "orig_nbformat": 4,
  "vscode": {
   "interpreter": {
    "hash": "aee8b7b246df8f9039afb4144a1f6fd8d2ca17a180786b69acc140d282b71a49"
   }
  }
 },
 "nbformat": 4,
 "nbformat_minor": 2
}
