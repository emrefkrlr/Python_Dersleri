{
 "cells": [
  {
   "cell_type": "markdown",
   "metadata": {},
   "source": [
    "# Soru 1\n",
    "\n",
    "Her bir while döngüsünde kullanıcıdan bir sayı alın ve kullanıcının girdiği sayıları \"toplam\" isimli bir değişkene ekleyin. \n",
    "\n",
    "Kullanıcı \"q\" tuşuna bastığı zaman döngüyü sonlandırın ve ekrana \"toplam değişkenini\" bastırın."
   ]
  },
  {
   "cell_type": "markdown",
   "metadata": {},
   "source": [
    "# Soru 2\n",
    "\n",
    "Kullanıcıdan aldığınız bir sayının mükemmel olup olmadığını bulmaya çalışın.\n",
    "\n",
    "Bir sayının kendi hariç bölenlerinin toplamı kendine eşitse bu sayıya \"mükemmel sayı\" denir. Örnek olarak, 6 mükemmel bir sayıdır. (1 + 2 + 3 = 6)"
   ]
  },
  {
   "cell_type": "markdown",
   "metadata": {},
   "source": [
    "# Soru 3\n",
    "\n",
    "Aşağıdaki listede None değerler için listedeki sayıların ortalaması ile dolduralım.\n",
    "\n",
    "notlar = [22.1, 32, 43, 54, 12, 65, None, 45,76, 345, 12, 99 ,34,76, 88, 111, None, None]"
   ]
  },
  {
   "cell_type": "markdown",
   "metadata": {},
   "source": [
    "# Soru 4\n",
    "\n",
    "Kullanıdan bir sayı isteyelim ve faktoriyelini hesaplayalım"
   ]
  },
  {
   "cell_type": "markdown",
   "metadata": {},
   "source": [
    "# Soru 5\n",
    "\n",
    "Yazdığımız python kodu bir sayı belirlesin ve kullancıdan tahmin etmesini istesin. Verdiği cevaplara göre doğru tahmine yöneltecek yanıtlar versin"
   ]
  },
  {
   "cell_type": "markdown",
   "metadata": {},
   "source": [
    "# Soru 6\n",
    "\n",
    "Kullanıcının aklında tuttuğu sayıyısı yazacağımız python kodunun tahmin etmesini sağlayalım. Verdiği cevaplara göre yanıtlarımızla uygulamayı doğru tahmine yöneltememiz gerekiyor"
   ]
  }
 ],
 "metadata": {
  "kernelspec": {
   "display_name": "Python 3.9.12 64-bit",
   "language": "python",
   "name": "python3"
  },
  "language_info": {
   "name": "python",
   "version": "3.9.12"
  },
  "orig_nbformat": 4,
  "vscode": {
   "interpreter": {
    "hash": "aee8b7b246df8f9039afb4144a1f6fd8d2ca17a180786b69acc140d282b71a49"
   }
  }
 },
 "nbformat": 4,
 "nbformat_minor": 2
}
